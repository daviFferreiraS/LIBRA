{
 "cells": [
  {
   "cell_type": "code",
   "execution_count": 1,
   "metadata": {},
   "outputs": [
    {
     "name": "stderr",
     "output_type": "stream",
     "text": [
      "c:\\Users\\davif\\AppData\\Local\\Programs\\Python\\Python310\\lib\\site-packages\\scipy\\__init__.py:169: UserWarning: A NumPy version >=1.18.5 and <1.26.0 is required for this version of SciPy (detected version 1.26.2\n",
      "  warnings.warn(f\"A NumPy version >={np_minversion} and <{np_maxversion}\"\n"
     ]
    }
   ],
   "source": [
    "from urllib.request import urlopen\n",
    "from bs4 import BeautifulSoup\n",
    "from urllib.error import HTTPError, URLError\n",
    "from nltk.tokenize import sent_tokenize\n",
    "from nltk.corpus import stopwords\n",
    "from string import punctuation"
   ]
  },
  {
   "cell_type": "code",
   "execution_count": 2,
   "metadata": {},
   "outputs": [],
   "source": [
    "html = urlopen(\"https://www.linguee.com/english-french/translation/good+night.html\")\n",
    "bs = BeautifulSoup(html.read(), 'lxml')"
   ]
  },
  {
   "cell_type": "markdown",
   "metadata": {},
   "source": [
    "# Tentativa 1"
   ]
  },
  {
   "cell_type": "code",
   "execution_count": 10,
   "metadata": {},
   "outputs": [],
   "source": [
    "main_term = bs.find_all('div', {'class':'exact'})\n",
    "translations = []\n",
    "for item in main_term:\n",
    "    translations.append(item.get_text())"
   ]
  },
  {
   "cell_type": "code",
   "execution_count": 5,
   "metadata": {},
   "outputs": [],
   "source": [
    "translations = str(translations[0])"
   ]
  },
  {
   "cell_type": "code",
   "execution_count": 6,
   "metadata": {},
   "outputs": [],
   "source": [
    "translations = sent_tokenize(translations)"
   ]
  },
  {
   "cell_type": "code",
   "execution_count": 7,
   "metadata": {},
   "outputs": [
    {
     "data": {
      "text/plain": [
       "['Good night!',\n",
       " 'interjection—Bonne nuit !',\n",
       " 'interj \\nGood night!',\n",
       " 'Sleep well!',\n",
       " '—\\xa0Bonne nuit !',\n",
       " 'Dormez bien !',\n",
       " 'good night  noun—bonne nuit f']"
      ]
     },
     "execution_count": 7,
     "metadata": {},
     "output_type": "execute_result"
    }
   ],
   "source": [
    "translations"
   ]
  },
  {
   "cell_type": "code",
   "execution_count": 10,
   "metadata": {},
   "outputs": [],
   "source": [
    "unwanted_words = stopwords.words(\"english\")\n",
    "punctuation = list(punctuation)\n",
    "more_words= [\"interj\", \"less common\", \"See\", \"alternative\", \"translations\", \"©\", \"Linguee\", \"Dictionary\", \"2023\", \"f\", \"—\"]\n",
    "\n",
    "for word in more_words:\n",
    "    unwanted_words.append(word)\n",
    "    "
   ]
  },
  {
   "cell_type": "code",
   "execution_count": 13,
   "metadata": {},
   "outputs": [
    {
     "name": "stdout",
     "output_type": "stream",
     "text": [
      "['Good', 'night!']\n",
      "['interjection—Bonne', 'nuit', '']\n",
      "['', 'Good', 'night!']\n",
      "['Sleep', 'well!']\n",
      "['', 'Bonne', 'nuit', '']\n",
      "['Dormez', 'bien', '']\n",
      "['good', 'night', 'noun—bonne', 'nuit', '']\n"
     ]
    }
   ],
   "source": [
    "for phrase in translations:\n",
    "    words = phrase.split()\n",
    "    for index, word in enumerate(words):\n",
    "        if word in unwanted_words or word in punctuation:\n",
    "           words[index] = \"\"\n",
    "    print(words)"
   ]
  },
  {
   "cell_type": "markdown",
   "metadata": {},
   "source": [
    "# Tentativa 2"
   ]
  },
  {
   "cell_type": "markdown",
   "metadata": {},
   "source": [
    "Traduções"
   ]
  },
  {
   "cell_type": "code",
   "execution_count": 3,
   "metadata": {},
   "outputs": [],
   "source": [
    "direct_translation = bs.find_all('h3', {'class':'translation_desc'})\n",
    "translations = []\n",
    "for item in direct_translation:\n",
    "    translations.append(str(item.get_text()))"
   ]
  },
  {
   "cell_type": "code",
   "execution_count": 4,
   "metadata": {},
   "outputs": [
    {
     "data": {
      "text/plain": [
       "['Bonne nuit ! interj ', 'bonne nuit f ']"
      ]
     },
     "execution_count": 4,
     "metadata": {},
     "output_type": "execute_result"
    }
   ],
   "source": [
    "translations"
   ]
  },
  {
   "cell_type": "code",
   "execution_count": 5,
   "metadata": {},
   "outputs": [
    {
     "name": "stdout",
     "output_type": "stream",
     "text": [
      "['Bonne nuit !', 'interj']\n",
      "['bonne nuit f']\n"
     ]
    }
   ],
   "source": [
    "for translation in translations:\n",
    "    print(sent_tokenize(translation))"
   ]
  },
  {
   "cell_type": "markdown",
   "metadata": {},
   "source": [
    "Exemplos"
   ]
  },
  {
   "cell_type": "code",
   "execution_count": 6,
   "metadata": {},
   "outputs": [],
   "source": [
    "examples_lines = bs.find_all('div', {'class':'example_lines'})\n",
    "examples = []\n",
    "for item in examples_lines:\n",
    "    examples.append(item.get_text())"
   ]
  },
  {
   "cell_type": "code",
   "execution_count": 7,
   "metadata": {},
   "outputs": [
    {
     "data": {
      "text/plain": [
       "['Good night! Sleep well! —\\xa0Bonne nuit ! Dormez bien !']"
      ]
     },
     "execution_count": 7,
     "metadata": {},
     "output_type": "execute_result"
    }
   ],
   "source": [
    "examples"
   ]
  },
  {
   "cell_type": "code",
   "execution_count": 8,
   "metadata": {},
   "outputs": [
    {
     "name": "stdout",
     "output_type": "stream",
     "text": [
      "['Good night!', 'Sleep well!', '—\\xa0Bonne nuit !', 'Dormez bien !']\n"
     ]
    }
   ],
   "source": [
    "for example in examples:\n",
    "    print(sent_tokenize(example))"
   ]
  }
 ],
 "metadata": {
  "kernelspec": {
   "display_name": "Python 3",
   "language": "python",
   "name": "python3"
  },
  "language_info": {
   "codemirror_mode": {
    "name": "ipython",
    "version": 3
   },
   "file_extension": ".py",
   "mimetype": "text/x-python",
   "name": "python",
   "nbconvert_exporter": "python",
   "pygments_lexer": "ipython3",
   "version": "3.10.4"
  }
 },
 "nbformat": 4,
 "nbformat_minor": 2
}
