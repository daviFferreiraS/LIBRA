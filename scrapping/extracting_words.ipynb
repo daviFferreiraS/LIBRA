{
 "cells": [
  {
   "cell_type": "markdown",
   "metadata": {},
   "source": [
    "Importando as bibliotecas"
   ]
  },
  {
   "cell_type": "code",
   "execution_count": 1,
   "metadata": {},
   "outputs": [
    {
     "name": "stderr",
     "output_type": "stream",
     "text": [
      "c:\\Users\\davif\\AppData\\Local\\Programs\\Python\\Python310\\lib\\site-packages\\scipy\\__init__.py:169: UserWarning: A NumPy version >=1.18.5 and <1.26.0 is required for this version of SciPy (detected version 1.26.2\n",
      "  warnings.warn(f\"A NumPy version >={np_minversion} and <{np_maxversion}\"\n"
     ]
    }
   ],
   "source": [
    "from urllib.request import urlopen\n",
    "from bs4 import BeautifulSoup\n",
    "from urllib.error import HTTPError, URLError\n",
    "from nltk.tokenize import sent_tokenize\n",
    "from nltk.corpus import brown\n",
    "import time, random\n",
    "\n",
    "from word import Word\n",
    "from scrap_lib import get_bs4_for_word, get_direct_translations, get_examples"
   ]
  },
  {
   "cell_type": "markdown",
   "metadata": {},
   "source": [
    "A lista de palavras em inglês será do corpus brown  "
   ]
  },
  {
   "cell_type": "code",
   "execution_count": 2,
   "metadata": {},
   "outputs": [],
   "source": [
    "words = brown.words()"
   ]
  },
  {
   "cell_type": "code",
   "execution_count": 5,
   "metadata": {},
   "outputs": [],
   "source": [
    "sample = words[:5]\n",
    "\n",
    "dictionary = {}\n",
    "\n",
    "for word in sample:\n",
    "    new_entry = Word(word)\n",
    "    bs4_word = get_bs4_for_word(word)\n",
    "    new_entry.french = get_direct_translations(bs4_word)\n",
    "    time.sleep(random.randint(2, 7))\n",
    "    new_entry.examples = get_examples(bs4_word)\n",
    "    time.sleep(random.randint(2, 7))\n",
    "\n",
    "    dictionary[new_entry.english] =  (new_entry.french, new_entry.examples)\n",
    "    "
   ]
  },
  {
   "cell_type": "code",
   "execution_count": 6,
   "metadata": {},
   "outputs": [
    {
     "data": {
      "text/plain": [
       "{'The': (['le art', 'les art', 'la art'],\n",
       "  [\"This is the book I wanted. — C'est le livre que je voulais. \",\n",
       "   'The results are excellent. — Les résultats sont excellents. ']),\n",
       " 'Fulton': ([], []),\n",
       " 'County': ([], []),\n",
       " 'Grand': (['large adj',\n",
       "   'great adj',\n",
       "   'grand adj',\n",
       "   'wide adj',\n",
       "   'huge adj',\n",
       "   'extensive adj',\n",
       "   'significant adj',\n",
       "   'tall adj',\n",
       "   'tremendous adj',\n",
       "   'grand adj   (grande f sl, grands m pl, grandes f pl)',\n",
       "   'grandiose adj',\n",
       "   'mille dollars pl m'],\n",
       "  ['Nous habitons une grande maison avec beaucoup de pièces. — We live in a large house with many rooms. ',\n",
       "   \"L'affaire a suscité un grand intérêt. — The matter has aroused great interest.Les grands dirigeants motivent leurs collaborateurs. — Great leaders motivate their collaborators. \",\n",
       "   'Le comptable calcule le grand total de tous les achats. — The accountant calculates the grand total for all purchases. ',\n",
       "   'Le magasin offre un grand choix de produits. — The shop offers a wide selection of products.Le café offre une grande variété de pâtisseries. — The café offers a wide variety of pastries. ',\n",
       "   \"L'inauguration de la campagne a été un grand succès. — The campaign launch was a huge success. \",\n",
       "   'Le nouveau directeur a une grande expérience dans ce secteur. — The new manager has extensive experience in the industry. ',\n",
       "   \"Le mariage du roi était un grand événement pour le pays. — The king's wedding was a significant event for the country. \",\n",
       "   'Je suis si grand que ma tête touche le plafond. — I am so tall that my head touches the ceiling. ',\n",
       "   \"Le soleil produit une grande quantité d'énergie. — The sun produces a tremendous amount of energy. \",\n",
       "   'The accountant calculates the grand total for all purchases. — Le comptable calcule le grand total de tous les achats. ',\n",
       "   'Luxury hotels are grand. — Les hôtels de luxe sont grandioses. ',\n",
       "   'Examples:grand journey n—grand voyage m ']),\n",
       " 'Jury': (['jury n  (almost always used)\\n (plural: juries)',\n",
       "   'jury m   (plural: jurys m)'],\n",
       "  [\"Le jury a reconnu l'accusé non coupable. — The jury found the accused not guilty.Le jury est parvenu à rendre un verdict. — The jury managed to reach a verdict. \",\n",
       "   \"The jury found the accused not guilty. — Le jury a reconnu l'accusé non coupable.The jury managed to reach a verdict. — Le jury est parvenu à rendre un verdict. \"])}"
      ]
     },
     "execution_count": 6,
     "metadata": {},
     "output_type": "execute_result"
    }
   ],
   "source": [
    "dictionary"
   ]
  }
 ],
 "metadata": {
  "kernelspec": {
   "display_name": "Python 3",
   "language": "python",
   "name": "python3"
  },
  "language_info": {
   "codemirror_mode": {
    "name": "ipython",
    "version": 3
   },
   "file_extension": ".py",
   "mimetype": "text/x-python",
   "name": "python",
   "nbconvert_exporter": "python",
   "pygments_lexer": "ipython3",
   "version": "3.10.4"
  }
 },
 "nbformat": 4,
 "nbformat_minor": 2
}
