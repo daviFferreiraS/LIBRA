{
 "cells": [
  {
   "cell_type": "markdown",
   "metadata": {},
   "source": [
    "Importando as bibliotecas"
   ]
  },
  {
   "cell_type": "code",
   "execution_count": 1,
   "metadata": {},
   "outputs": [],
   "source": [
    "from nltk.tokenize import word_tokenize\n",
    "import time, random\n",
    "\n",
    "from word import Word\n",
    "from scrap_lib import get_bs4_for_word, get_direct_translations, get_examples\n",
    "\n",
    "import pandas as pd\n",
    "import json"
   ]
  },
  {
   "cell_type": "code",
   "execution_count": 2,
   "metadata": {},
   "outputs": [],
   "source": [
    "dataset = pd.read_csv(\"200_wiki_articles.csv\")"
   ]
  },
  {
   "cell_type": "code",
   "execution_count": 3,
   "metadata": {},
   "outputs": [],
   "source": [
    "article = dataset.iloc[:,1]\n",
    "article = article[0]\n",
    "\n",
    "article = article.replace(\",\", ' ')\n",
    "article = article.replace(\"(\", ' ')\n",
    "article = article.replace(\")\", ' ')"
   ]
  },
  {
   "cell_type": "code",
   "execution_count": 4,
   "metadata": {},
   "outputs": [],
   "source": [
    "words = word_tokenize(article, language=\"french\")"
   ]
  },
  {
   "cell_type": "code",
   "execution_count": 5,
   "metadata": {},
   "outputs": [],
   "source": [
    "words = set(words)\n",
    "designated = [word for word in words if word.isalpha() and len(word) > 1]"
   ]
  },
  {
   "cell_type": "code",
   "execution_count": 6,
   "metadata": {},
   "outputs": [],
   "source": [
    "dictionary = {}\n",
    "counter = 0"
   ]
  },
  {
   "cell_type": "code",
   "execution_count": 7,
   "metadata": {},
   "outputs": [
    {
     "name": "stdout",
     "output_type": "stream",
     "text": [
      "It was not possible to open the URL for determined word. Try checking any typos\n"
     ]
    }
   ],
   "source": [
    "for i in range(131, len(designated)):\n",
    "    if dictionary.get(designated[i]) == None:\n",
    "        new_entry = Word(designated[i])\n",
    "        bs4_word = get_bs4_for_word(designated[i])\n",
    "        if bs4_word == None:\n",
    "            break\n",
    "\n",
    "        new_entry.english = get_direct_translations(bs4_word)\n",
    "        time.sleep(random.randint(7, 10))\n",
    "        new_entry.examples = get_examples(bs4_word)\n",
    "        time.sleep(random.randint(7, 10))\n",
    "\n",
    "        dictionary[new_entry.french] =  new_entry\n",
    "        counter += 1\n"
   ]
  },
  {
   "cell_type": "code",
   "execution_count": 8,
   "metadata": {},
   "outputs": [
    {
     "data": {
      "text/plain": [
       "41"
      ]
     },
     "execution_count": 8,
     "metadata": {},
     "output_type": "execute_result"
    }
   ],
   "source": [
    "counter"
   ]
  },
  {
   "cell_type": "code",
   "execution_count": 9,
   "metadata": {},
   "outputs": [],
   "source": [
    "with open(\"dictionary.json\", \"a\", encoding=\"UTF-8\") as file:\n",
    "    file.write(\"[\")\n",
    "    for word in dictionary.values():\n",
    "        aux = word.dump()\n",
    "        file.write(aux + ',')\n",
    "    file.write(\"]\")"
   ]
  },
  {
   "cell_type": "code",
   "execution_count": null,
   "metadata": {},
   "outputs": [],
   "source": [
    "with open(\"dictionary.json\", 'r') as file:\n",
    "    json_obj = json.load(file)\n",
    "\n",
    "print(json_obj)"
   ]
  },
  {
   "cell_type": "code",
   "execution_count": 2,
   "metadata": {},
   "outputs": [],
   "source": [
    "test = get_bs4_for_word(\"décennies\")"
   ]
  },
  {
   "cell_type": "code",
   "execution_count": 3,
   "metadata": {},
   "outputs": [
    {
     "data": {
      "text/plain": [
       "['decades pl  (almost always used)', 'decade n   (plural: decades)']"
      ]
     },
     "execution_count": 3,
     "metadata": {},
     "output_type": "execute_result"
    }
   ],
   "source": [
    "get_direct_translations(test)"
   ]
  }
 ],
 "metadata": {
  "kernelspec": {
   "display_name": "Python 3",
   "language": "python",
   "name": "python3"
  },
  "language_info": {
   "codemirror_mode": {
    "name": "ipython",
    "version": 3
   },
   "file_extension": ".py",
   "mimetype": "text/x-python",
   "name": "python",
   "nbconvert_exporter": "python",
   "pygments_lexer": "ipython3",
   "version": "3.10.4"
  }
 },
 "nbformat": 4,
 "nbformat_minor": 2
}
