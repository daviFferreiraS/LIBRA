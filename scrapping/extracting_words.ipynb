{
 "cells": [
  {
   "cell_type": "markdown",
   "metadata": {},
   "source": [
    "Importando as bibliotecas"
   ]
  },
  {
   "cell_type": "code",
   "execution_count": 13,
   "metadata": {},
   "outputs": [],
   "source": [
    "from nltk.tokenize import word_tokenize\n",
    "import time, random\n",
    "\n",
    "from word import Word\n",
    "from scrap_lib import get_bs4_for_word, get_direct_translations, get_examples\n",
    "\n",
    "import pandas as pd"
   ]
  },
  {
   "cell_type": "code",
   "execution_count": 2,
   "metadata": {},
   "outputs": [],
   "source": [
    "dataset = pd.read_csv(\"200_wiki_articles.csv\")"
   ]
  },
  {
   "cell_type": "code",
   "execution_count": 3,
   "metadata": {},
   "outputs": [],
   "source": [
    "article = dataset.iloc[:,1]\n",
    "article = article[0]\n",
    "\n",
    "article = article.replace(\",\", ' ')\n",
    "article = article.replace(\"(\", ' ')\n",
    "article = article.replace(\")\", ' ')"
   ]
  },
  {
   "cell_type": "code",
   "execution_count": 4,
   "metadata": {},
   "outputs": [],
   "source": [
    "words = word_tokenize(article, language=\"french\")"
   ]
  },
  {
   "cell_type": "code",
   "execution_count": 18,
   "metadata": {},
   "outputs": [
    {
     "name": "stdout",
     "output_type": "stream",
     "text": [
      "It was not possible to open the URL for determined word. Try checking any typos\n"
     ]
    },
    {
     "ename": "AttributeError",
     "evalue": "'NoneType' object has no attribute 'find_all'",
     "output_type": "error",
     "traceback": [
      "\u001b[1;31m---------------------------------------------------------------------------\u001b[0m",
      "\u001b[1;31mAttributeError\u001b[0m                            Traceback (most recent call last)",
      "Input \u001b[1;32mIn [18]\u001b[0m, in \u001b[0;36m<module>\u001b[1;34m\u001b[0m\n\u001b[0;32m      7\u001b[0m new_entry \u001b[38;5;241m=\u001b[39m Word(word)\n\u001b[0;32m      8\u001b[0m bs4_word \u001b[38;5;241m=\u001b[39m get_bs4_for_word(word)\n\u001b[1;32m----> 9\u001b[0m new_entry\u001b[38;5;241m.\u001b[39menglish \u001b[38;5;241m=\u001b[39m \u001b[43mget_direct_translations\u001b[49m\u001b[43m(\u001b[49m\u001b[43mbs4_word\u001b[49m\u001b[43m)\u001b[49m\n\u001b[0;32m     10\u001b[0m time\u001b[38;5;241m.\u001b[39msleep(random\u001b[38;5;241m.\u001b[39mrandint(\u001b[38;5;241m7\u001b[39m, \u001b[38;5;241m10\u001b[39m))\n\u001b[0;32m     11\u001b[0m new_entry\u001b[38;5;241m.\u001b[39mexamples \u001b[38;5;241m=\u001b[39m get_examples(bs4_word)\n",
      "File \u001b[1;32mc:\\Users\\davif\\OneDrive\\Documentos\\GitHub\\LIBRA\\scrapping\\scrap_lib.py:25\u001b[0m, in \u001b[0;36mget_direct_translations\u001b[1;34m(bs)\u001b[0m\n\u001b[0;32m     24\u001b[0m \u001b[38;5;28;01mdef\u001b[39;00m \u001b[38;5;21mget_direct_translations\u001b[39m(bs):\n\u001b[1;32m---> 25\u001b[0m     direct_translation \u001b[38;5;241m=\u001b[39m \u001b[43mbs\u001b[49m\u001b[38;5;241;43m.\u001b[39;49m\u001b[43mfind_all\u001b[49m(\u001b[38;5;124m'\u001b[39m\u001b[38;5;124mh3\u001b[39m\u001b[38;5;124m'\u001b[39m, {\u001b[38;5;124m'\u001b[39m\u001b[38;5;124mclass\u001b[39m\u001b[38;5;124m'\u001b[39m:\u001b[38;5;124m'\u001b[39m\u001b[38;5;124mtranslation_desc\u001b[39m\u001b[38;5;124m'\u001b[39m})\n\u001b[0;32m     26\u001b[0m     translations \u001b[38;5;241m=\u001b[39m []\n\u001b[0;32m     27\u001b[0m     \u001b[38;5;28;01mfor\u001b[39;00m item \u001b[38;5;129;01min\u001b[39;00m direct_translation:\n",
      "\u001b[1;31mAttributeError\u001b[0m: 'NoneType' object has no attribute 'find_all'"
     ]
    }
   ],
   "source": [
    "sample = words[5: 10]\n",
    "\n",
    "dictionary = {}\n",
    "\n",
    "for word in sample:\n",
    "    if not dictionary.get(word):\n",
    "        new_entry = Word(word)\n",
    "        bs4_word = get_bs4_for_word(word)\n",
    "        new_entry.english = get_direct_translations(bs4_word)\n",
    "        time.sleep(random.randint(7, 10))\n",
    "        new_entry.examples = get_examples(bs4_word)\n",
    "        time.sleep(random.randint(7, 10))\n",
    "\n",
    "        dictionary[new_entry.french] =  new_entry\n",
    "    "
   ]
  },
  {
   "cell_type": "code",
   "execution_count": 19,
   "metadata": {},
   "outputs": [
    {
     "data": {
      "text/plain": [
       "{'le': <word.Word at 0x2778fe4e500>,\n",
       " 'à': <word.Word at 0x27790597700>,\n",
       " 'Moulins': <word.Word at 0x2778fe4edd0>}"
      ]
     },
     "execution_count": 19,
     "metadata": {},
     "output_type": "execute_result"
    }
   ],
   "source": [
    "dictionary"
   ]
  },
  {
   "cell_type": "code",
   "execution_count": null,
   "metadata": {},
   "outputs": [],
   "source": []
  }
 ],
 "metadata": {
  "kernelspec": {
   "display_name": "Python 3",
   "language": "python",
   "name": "python3"
  },
  "language_info": {
   "codemirror_mode": {
    "name": "ipython",
    "version": 3
   },
   "file_extension": ".py",
   "mimetype": "text/x-python",
   "name": "python",
   "nbconvert_exporter": "python",
   "pygments_lexer": "ipython3",
   "version": "3.10.4"
  }
 },
 "nbformat": 4,
 "nbformat_minor": 2
}
