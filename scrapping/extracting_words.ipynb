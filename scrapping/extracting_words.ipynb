{
 "cells": [
  {
   "cell_type": "markdown",
   "metadata": {},
   "source": [
    "Importando as bibliotecas"
   ]
  },
  {
   "cell_type": "code",
   "execution_count": 1,
   "metadata": {},
   "outputs": [
    {
     "name": "stderr",
     "output_type": "stream",
     "text": [
      "c:\\Users\\davif\\AppData\\Local\\Programs\\Python\\Python310\\lib\\site-packages\\scipy\\__init__.py:169: UserWarning: A NumPy version >=1.18.5 and <1.26.0 is required for this version of SciPy (detected version 1.26.2\n",
      "  warnings.warn(f\"A NumPy version >={np_minversion} and <{np_maxversion}\"\n"
     ]
    }
   ],
   "source": [
    "from urllib.request import urlopen\n",
    "from bs4 import BeautifulSoup\n",
    "from urllib.error import HTTPError, URLError\n",
    "from nltk.tokenize import sent_tokenize\n",
    "from nltk.corpus import brown\n",
    "import time, random\n",
    "\n",
    "from word import Word\n",
    "from scrap_lib import get_bs4_for_word, get_direct_translations, get_examples"
   ]
  },
  {
   "cell_type": "markdown",
   "metadata": {},
   "source": [
    "A lista de palavras em inglês será do corpus brown  "
   ]
  },
  {
   "cell_type": "code",
   "execution_count": 2,
   "metadata": {},
   "outputs": [],
   "source": [
    "words = brown.words()"
   ]
  },
  {
   "cell_type": "code",
   "execution_count": 3,
   "metadata": {},
   "outputs": [
    {
     "name": "stdout",
     "output_type": "stream",
     "text": [
      "This is the book I wanted. — C'est le livre que je voulais.\n",
      "The results are excellent. — Les résultats sont excellents.\n",
      "Examples:in the end adv —finalement adv \n",
      "\n",
      "\n",
      "\n",
      "\n",
      "at the moment adv —à l'heure actuelle adv \n",
      "\n",
      "\n",
      "\n",
      "\n",
      "at the time adv —à l'époque adv \n",
      "\n",
      "\n",
      "\n",
      "\n",
      "  See more examples • See alternative translations in the first place adv —premièrement adv \n",
      "\n",
      "\n",
      "\n",
      "\n",
      "for the purpose of prep —dans le but de prep \n",
      "\n",
      "\n",
      "\n",
      "\n",
      "in the wake of prep —à la suite de prep\n",
      "\n",
      "\n",
      "\n",
      "\n",
      "in the near future adv —dans peu de temps adv\n",
      "\n",
      "\n",
      "\n",
      "\n",
      "in the course of prep —dans le cadre de prep \n",
      "\n",
      "\n",
      "\n",
      "\n",
      "for the purposes of prep —dans le but de prep \n",
      "\n",
      "\n",
      "\n",
      "\n",
      "from the outset adv —depuis le début adv\n",
      "\n",
      "\n",
      "\n",
      "\n",
      "all the same adv —tout de même adv \n",
      "\n",
      "\n",
      "\n",
      "\n",
      "in the same vein adv—dans la même optique adv\n",
      "\n",
      "\n",
      "\n",
      "\n",
      "at the beginning adv —au commencement adv\n",
      "\n",
      "\n",
      "\n",
      "\n",
      "for the attention of prep —à l'attention de prep\n",
      "\n",
      "\n",
      "\n",
      "\n",
      "in the evening adv —le soir adv \n",
      "\n",
      "\n",
      "\n",
      "\n",
      "the other way around adv —dans le sens inverse adv\n",
      "\n",
      "\n",
      "\n",
      "\n",
      "stay the course v [fig.] —garder le cap v [fig.]\n",
      "\n",
      "\n",
      "\n",
      "\n",
      "in the open adv —en plein air adv \n",
      "\n",
      "\n",
      "\n",
      "\n",
      "on the right adv —à droite adv \n",
      "\n",
      "\n",
      "\n",
      "\n",
      "member of the board n —membre du conseil m \n",
      "\n",
      "\n",
      "\n",
      "\n",
      "beat the odds v —braver les obstacles v\n",
      "\n",
      "\n",
      "\n",
      "\n",
      "hit the ground v—toucher le sol v \n",
      "\n",
      "\n",
      "\n",
      "\n",
      "open to the public adj —accessible au public adj \n",
      "\n",
      "\n",
      "\n",
      "\n",
      "deliver the goods v —livrer les marchandises v \n",
      "\n",
      "\n",
      "\n",
      "\n",
      "go down the drain v —s'effondrer v \n",
      "\n",
      "\n",
      "\n",
      "\n",
      "give up the ghost v [fig.] —rendre son dernier souffle v [fig.] \n",
      "\n",
      "\n",
      "\n",
      "\n",
      "the seventies pl—les années soixante-dix pl f\n",
      "\n",
      "\n",
      "\n",
      "\n",
      "be on the phone v —être au téléphone v \n",
      "\n",
      "\n",
      "\n",
      "\n",
      "within the set deadlines adv—dans le respect des délais adv\n",
      "\n",
      "\n",
      "\n",
      "\n",
      "at the left of prep—à gauche de prep\n",
      "\n",
      "\n",
      "\n",
      "\n",
      "have the runs v —avoir la diarrhée v \n",
      "\n",
      "\n",
      "\n",
      "\n",
      "lay the foundation for sth. v—constituer le fondement de qqch. v\n",
      "\n",
      "\n",
      "\n",
      "\n",
      "to the south of prep —au sud de prep \n",
      "\n",
      "\n",
      "\n",
      "\n",
      "on-the-spot verification n—contrôle sur place m\n",
      "\n",
      "\n",
      "\n",
      "\n",
      "raise the question v—soulever la question v\n",
      "\n",
      "\n",
      "\n",
      "\n",
      "make the case for sth. v—plaider en faveur de qqch. v\n",
      "\n",
      "\n",
      "\n",
      "\n",
      "on the right side of prep—à droite de prep\n",
      "\n",
      "\n",
      "\n",
      "\n",
      "\n"
     ]
    }
   ],
   "source": [
    "sample = words[:1]\n",
    "\n",
    "dictionary = {}\n",
    "\n",
    "for word in sample:\n",
    "    new_entry = Word(word)\n",
    "    bs4_word = get_bs4_for_word(word)\n",
    "    new_entry.french = get_direct_translations(bs4_word)\n",
    "    time.sleep(random.randint(2, 7))\n",
    "    new_entry.examples = get_examples(bs4_word)\n",
    "    time.sleep(random.randint(2, 7))\n",
    "\n",
    "    dictionary[new_entry.english] =  (new_entry.french, new_entry.examples)\n",
    "    "
   ]
  },
  {
   "cell_type": "code",
   "execution_count": 4,
   "metadata": {},
   "outputs": [
    {
     "data": {
      "text/plain": [
       "{'The': ([['le art'], ['les art'], ['la art']],\n",
       "  [\"This is the book I wanted. — C'est le livre que je voulais. \",\n",
       "   'The results are excellent. — Les résultats sont excellents. ',\n",
       "   \"Examples:in the end adv —finalement adv at the moment adv —à l'heure actuelle adv at the time adv —à l'époque adv See more examples • See alternative translations in the first place adv —premièrement adv for the purpose of prep —dans le but de prep in the wake of prep —à la suite de prep in the near future adv —dans peu de temps adv in the course of prep —dans le cadre de prep for the purposes of prep —dans le but de prep from the outset adv —depuis le début adv all the same adv —tout de même adv in the same vein adv—dans la même optique adv at the beginning adv —au commencement adv for the attention of prep —à l'attention de prep in the evening adv —le soir adv the other way around adv —dans le sens inverse adv stay the course v [fig.] —garder le cap v [fig.] in the open adv —en plein air adv on the right adv —à droite adv member of the board n —membre du conseil m beat the odds v —braver les obstacles v hit the ground v—toucher le sol v open to the public adj —accessible au public adj deliver the goods v —livrer les marchandises v go down the drain v —s'effondrer v give up the ghost v [fig.] —rendre son dernier souffle v [fig.] the seventies pl—les années soixante-dix pl f be on the phone v —être au téléphone v within the set deadlines adv—dans le respect des délais adv at the left of prep—à gauche de prep have the runs v —avoir la diarrhée v lay the foundation for sth. v—constituer le fondement de qqch. v to the south of prep —au sud de prep on-the-spot verification n—contrôle sur place m raise the question v—soulever la question v make the case for sth. v—plaider en faveur de qqch. v on the right side of prep—à droite de prep \"])}"
      ]
     },
     "execution_count": 4,
     "metadata": {},
     "output_type": "execute_result"
    }
   ],
   "source": [
    "dictionary"
   ]
  },
  {
   "cell_type": "code",
   "execution_count": 6,
   "metadata": {},
   "outputs": [
    {
     "name": "stdout",
     "output_type": "stream",
     "text": [
      "tem sim\n"
     ]
    }
   ],
   "source": [
    "test = dictionary[\"The\"][1]\n",
    "\n",
    "for phrase in test:\n",
    "    if \"See alternative translations\" in phrase:\n",
    "        print(\"tem sim\")"
   ]
  }
 ],
 "metadata": {
  "kernelspec": {
   "display_name": "Python 3",
   "language": "python",
   "name": "python3"
  },
  "language_info": {
   "codemirror_mode": {
    "name": "ipython",
    "version": 3
   },
   "file_extension": ".py",
   "mimetype": "text/x-python",
   "name": "python",
   "nbconvert_exporter": "python",
   "pygments_lexer": "ipython3",
   "version": "3.10.4"
  }
 },
 "nbformat": 4,
 "nbformat_minor": 2
}
