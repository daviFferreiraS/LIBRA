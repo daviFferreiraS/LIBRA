{
 "cells": [
  {
   "cell_type": "markdown",
   "metadata": {},
   "source": [
    "Importando as bibliotecas"
   ]
  },
  {
   "cell_type": "code",
   "execution_count": 1,
   "metadata": {},
   "outputs": [],
   "source": [
    "from nltk.tokenize import word_tokenize\n",
    "import time, random\n",
    "\n",
    "from word import Word\n",
    "from scrap_lib import get_bs4_for_word, get_direct_translations, get_examples\n",
    "\n",
    "import pandas as pd\n",
    "import json"
   ]
  },
  {
   "cell_type": "code",
   "execution_count": 2,
   "metadata": {},
   "outputs": [],
   "source": [
    "dataset = pd.read_csv(\"200_wiki_articles.csv\")"
   ]
  },
  {
   "cell_type": "code",
   "execution_count": 3,
   "metadata": {},
   "outputs": [],
   "source": [
    "article = dataset.iloc[:,1]\n",
    "article = article[0]\n",
    "\n",
    "article = article.replace(\",\", ' ')\n",
    "article = article.replace(\"(\", ' ')\n",
    "article = article.replace(\")\", ' ')"
   ]
  },
  {
   "cell_type": "code",
   "execution_count": 4,
   "metadata": {},
   "outputs": [],
   "source": [
    "words = word_tokenize(article, language=\"french\")"
   ]
  },
  {
   "cell_type": "code",
   "execution_count": 5,
   "metadata": {},
   "outputs": [],
   "source": [
    "words = set(words)\n",
    "designated = [word for word in words if word.isalpha() and len(word) > 1]"
   ]
  },
  {
   "cell_type": "code",
   "execution_count": 6,
   "metadata": {},
   "outputs": [],
   "source": [
    "dictionary = {}\n",
    "counter = 0"
   ]
  },
  {
   "cell_type": "code",
   "execution_count": 7,
   "metadata": {},
   "outputs": [],
   "source": [
    "for i in range(42, len(designated)):\n",
    "    new_entry = Word(designated[i])\n",
    "    bs4_word = get_bs4_for_word(designated[i])\n",
    "    if bs4_word == None:\n",
    "        break\n",
    "\n",
    "    new_entry.english = get_direct_translations(bs4_word)\n",
    "    time.sleep(random.randint(7, 10))\n",
    "    new_entry.examples = get_examples(bs4_word)\n",
    "    time.sleep(random.randint(7, 10))\n",
    "\n",
    "    dictionary[new_entry.french] =  new_entry\n",
    "    counter += 1\n"
   ]
  },
  {
   "cell_type": "code",
   "execution_count": 45,
   "metadata": {},
   "outputs": [
    {
     "data": {
      "text/plain": [
       "66"
      ]
     },
     "execution_count": 45,
     "metadata": {},
     "output_type": "execute_result"
    }
   ],
   "source": [
    "counter"
   ]
  },
  {
   "cell_type": "code",
   "execution_count": 42,
   "metadata": {},
   "outputs": [],
   "source": [
    "with open(\"dictionary.json\", \"a\", encoding=\"UTF-8\") as file:\n",
    "    file.write(\"[\")\n",
    "    for word in dictionary.values():\n",
    "        aux = word.dump()\n",
    "        file.write(aux + ',')\n",
    "    file.write(\"]\")"
   ]
  },
  {
   "cell_type": "code",
   "execution_count": 43,
   "metadata": {},
   "outputs": [
    {
     "name": "stdout",
     "output_type": "stream",
     "text": [
      "[{'english': ['it pron', 'the art'], 'examples': [], 'french': 'la'}, {'english': ['three num'], 'examples': [\"Le train n'a que trois wagons. â€” The train only has three coaches.J'ai coupÃ© trois tranches de pain. â€” I cut three slices of bread. \"], 'french': 'trois'}, {'english': ['bibliography n'], 'examples': [\"J'ai achevÃ© ma prÃ©sentation par une bibliographie. â€” I concluded my presentation with a bibliography. \"], 'french': 'Bibliographie'}, {'english': [], 'examples': [], 'french': 'complÃ¨te'}, {'english': ['Michael prop.n'], 'examples': [], 'french': 'Michel'}, {'english': ['number n  (often used)', 'figure n', 'variety n', 'count n', 'volume n', 'capacity n'], 'examples': [\"Le nombre de chats errants augmente. â€” The number of stray cats is increasing. L'expÃ©rience mÃ©dicale a soulevÃ© un certain nombre de questions Ã©thiques. â€” The medical experiment raised a number of ethical questions. \", \"Le nombre sur le bulletin de salaire a surpris l'employÃ©. â€” The figure on the salary slip surprised the employee. \", 'Il y a un grand nombre de fruits au marchÃ©. â€” There is a large variety of fruits at the market. ', 'Le graphique montre le nombre exact de tÃ©lÃ©chargements sur le site internet. â€” The graph shows the exact count of downloads on the website. ', \"L'entreprise reÃ§oit un nombre Ã©levÃ© de commandes. â€” The company receives a high volume of orders. \", 'Le nouvel avion aura un plus grand nombre de places. â€” The new airplane will have greater passenger capacity. '], 'french': 'nombre'}, {'english': ['be v', 'being n   (plural: beings)'], 'examples': [\"Mon frÃ¨re est trÃ¨s grand. â€” My brother is very tall.L'Ã©tain est un mÃ©tal lourd. â€” Tin is a heavy metal. \", \"La protection de l'environnement profite Ã\\xa0 tous les Ãªtres vivants. â€” Protecting the environment benefits all living beings. \"], 'french': 'serait'}, {'english': ['on prep  (often used)', 'for prep', 'about prep', 'upon prep', 'over prep', 'onto prep', 'regarding prep'], 'examples': [\"La nourriture est dÃ©jÃ\\xa0 sur la table. â€” The food is already on the table. Le bois flotte sur l'eau. â€” Wood floats on water. \", \"Le professeur a Ã©clairÃ© ses Ã©lÃ¨ves sur le sujet. â€” The teacher enlightened his students about the topic.L'Ã©tudiant doit rÃ©diger un essai sur l'art moderne. â€” The student must write an essay about modern art. \", 'Des tailles diffÃ©rentes sont disponibles sur demande. â€” Different sizes are available upon request. ', \"Les espÃ¨ces Ã©voluent sur des millions d'annÃ©es. â€” Species evolve over millions of years.Le roi rÃ©gnait sur tout le royaume. â€” The king ruled over the whole realm. \", 'Mon frÃ¨re a gravÃ© un film sur DVD. â€” My brother burned a movie onto a DVD.La statue a Ã©tÃ© posÃ©e avec soin sur le socle. â€” The statue was carefully placed onto the plinth. ', \"Je n'ai pas d'avis sur ce sujet, je suis neutre. â€” I do not have an opinion regarding this matter, I am neutral. \"], 'french': 'sur'}, {'english': [], 'examples': [], 'french': 'BÃ©rard'}, {'english': [], 'examples': [], 'french': 'Alfred'}, {'english': ['German adj', 'German n   (plural: Germans)'], 'examples': [\"L'Ã©quipe est composÃ©e de deux Allemands et d'un AmÃ©ricain. â€” The team is composed of two Germans and an American. \"], 'french': 'allemand'}, {'english': [], 'examples': [], 'french': 'collab'}, {'english': ['champion n  (often used)\\n (plural: champions)', 'champion m   (plural: champions m)', 'dÃ©fendre qqch.', 'soutenir v'], 'examples': [\"Le gagnant de la course sera le champion. â€” The winner of the race will be the champion.Les prouesses du champion restent inÃ©galÃ©es Ã\\xa0 ce jour. â€” The champion's exploits remain unparalleled to this day.Le champion incontestÃ© semblait invincible. â€” The undisputed champion seemed invincible. \", \"The winner of the race will be the champion. â€” Le gagnant de la course sera le champion. The champion's exploits remain unparalleled to this day. â€” Les prouesses du champion restent inÃ©galÃ©es Ã\\xa0 ce jour.The undisputed champion seemed invincible. â€” Le champion incontestÃ© semblait invincible. \", \"The politician champions the rights of migrant workers. â€” L'homme politique dÃ©fend les droits des travailleurs immigrÃ©s. \", 'The new government champions social reform. â€” Le nouveau gouvernement soutient la rÃ©forme sociale. '], 'french': 'Champion'}, {'english': [], 'examples': [], 'french': 'prÃ©curseur'}, {'english': ['several pron', 'quite a few'], 'examples': [\"Le prÃ©sident a plusieurs rÃ©sidences dans l'ensemble du pays. â€” The president has several residences across the country.J'ai rÃ©cemment adhÃ©rÃ© Ã\\xa0 plusieurs clubs. â€” I have recently joined several clubs. \", 'Le journaliste a Ã©crit plusieurs articles bien documentÃ©s. â€” The journalist wrote quite a few well-documented articles. '], 'french': 'plusieurs'}, {'english': ['become sb./sth.', 'get sth.', 'grow v   (grew, grown)', 'turn v   (turned, turned)'], 'examples': ['Le garÃ§on veut devenir pompier. â€” The boy wants to become a firefighter.Marcher tous les jours est devenu une routine. â€” Walking every day became a habit. ', \"Avec de la pratique, jouer du piano devient plus facile. â€” With some practice, playing the piano gets easier.Je coupe mes ongles avant qu'ils ne deviennent trop longs. â€” I clip my nails before they get too long. \", \"Son envie de soleil devint de plus en plus forte pendant l'hiver. â€” His longing for sunshine grew ever more strongly during the winter. \", \"Le garÃ§on est devenu pÃ¢le quand il a vu l'araignÃ©e. â€” The boy turned pale when he saw the spider. \"], 'french': 'devient'}, {'english': [], 'examples': [], 'french': 'Hratchia'}, {'english': ['devote v   (devoted, devoted)', 'dedicate v   (dedicated, dedicated)', 'earmark sth.', 'expend v   (expended, expended)', 'bless v   (blessed, blessed)'], 'examples': [\"Je consacre mon temps libre Ã\\xa0 l'apprentissage des langues. â€” I devote my free time to learning languages. \", 'Le journal a consacrÃ© un long article Ã\\xa0 cette incroyable histoire. â€” The newspaper dedicated a long article to this incredible story. ', \"L'entreprise a consacrÃ© ses profits Ã\\xa0 la recherche et au dÃ©veloppement. â€” The company earmarked its profits for research and development. \", \"L'Ã©quipe a consacrÃ© beaucoup d'efforts au projet. â€” The team expended a lot of effort on the project. \", 'Examples:consacrer qqch. Ã\\xa0 qqch. vâ€”dedicate sth. to sth. v Â· bring sth. to bear on sth. v '], 'french': 'consacre'}, {'english': [], 'examples': [], 'french': 'Albert'}, {'english': [], 'examples': [], 'french': 'Sammenlignende'}, {'english': [], 'examples': [], 'french': 'jusqu'}, {'english': [], 'examples': [], 'french': 'dÃ©cennies'}, {'english': ['birth n  (often used)\\n (plural: births)', 'genesis n'], 'examples': [\"Je connais l'heure exacte de la naissance de mon fils. â€” I know my son's exact time of birth. \", \"L'article parle de la naissance de la foi chrÃ©tienne. â€” The article is about the genesis of the Christian faith. \"], 'french': 'Naissance'}, {'english': ['mills pl  (almost always used)', 'mill n   (plural: mills)', 'windmill n'], 'examples': [\"Les moulins Ã\\xa0 marÃ©e sont actionnÃ©s par les courants d'eau de mer. â€” Tidal mills are operated by seawater currents. \", \"Avant, les gens achetaient la farine directement au moulin. â€” People used to buy flour straight from the mill. Le vieux moulin est trÃ¨s pittoresque. â€” The old mill is very picturesque.Les moulins Ã\\xa0 marÃ©e sont actionnÃ©s par les courants d'eau de mer. â€” Tidal mills are operated by seawater currents. \"], 'french': 'Moulins'}, {'english': ['sons pl', 'wires pl', 'son n  (often used)\\n (plural: sons)', 'lead n   (plural: leads)', 'strand n   (plural: strands)'], 'examples': [\"Les fils Ã©taient faits d'un composite de cuivre et d'acier. â€” The wires were made of a composite of copper and steel.Les fils sont protÃ©gÃ©s par un boÃ®tier en plastique. â€” The wires are protected by a plastic casing. \", \"Elle a pardonnÃ© Ã\\xa0 son fils d'avoir menti. â€” She pardoned her son for lying.Mon fils n'a que de bonnes frÃ©quentations. â€” My son only keeps good company. \", \"J'ai remplacÃ© le fil d'antenne endommagÃ©. â€” I replaced the damaged antenna lead. \", \"La broderie comporte des fils de soie et d'or. â€” This embroidery has strands of silk and gold. \"], 'french': 'fils'}, {'english': [], 'examples': [], 'french': 'Ã©tÃ©'}, {'english': [], 'examples': [], 'french': 'Paulhan'}, {'english': ['released', 'seem v   (seemed, seemed)', 'appear v   (appeared, appeared)', 'look v   (looked, looked)', 'come out v   (came, come)'], 'examples': [\"La tÃ¢che paraissait insurmontable mais j'ai persÃ©vÃ©rÃ©. â€” The task seemed insurmountable but I kept trying. \", \"Mon ami paraÃ®t fatiguÃ© aujourd'hui. â€” My friend looks tired today.Il paraissait minable dans son vieux manteau rapiÃ©cÃ©. â€” He looked shabby in his old, patched coat.Un homme paraÃ®t petit comparÃ© Ã\\xa0 un Ã©lÃ©phant. â€” A human looks tiny compared to an elephant. \", 'Une nouvelle Ã©dition du dictionnaire paraÃ®tra la semaine prochaine. â€” A new edition of the dictionary will come out next week. ', 'Examples:article paru mâ€”article published n article paru rÃ©cemment mâ€”recent article n paraÃ®tre sensÃ© vâ€”make sense v '], 'french': 'paru'}, {'english': ['expensive adj', 'dear adj', 'beloved', 'pricey adj', 'dear adj'], 'examples': [\"Ma mÃ¨re a achetÃ© une bague trÃ¨s chÃ¨re. â€” My mother bought a very expensive ring.Les mÃ©taux prÃ©cieux, tels que l'or, sont chers. â€” Precious metals, such as gold, are expensive. \", \"J'aime mes animaux domestiques, ils me sont trÃ¨s chers. â€” I love my pets, they are very dear to me. \", 'Il a Ã©crit une lettre Ã\\xa0 sa chÃ¨re maman. â€” He wrote a letter to his beloved mother. ', 'Certains fruits sont assez chers en hiver. â€” Certain fruits are quite pricey in winter. '], 'french': 'Cher'}, {'english': ['occupy v   (occupied, occupied)', 'assume sth.', 'inhabit sth.'], 'examples': ['La famille a fait un puzzle pour occuper les enfants. â€” The family did a puzzle to occupy the children.Elle occupe un poste Ã©levÃ© dans cette entreprise. â€” She occupies a senior position in this company. ', \"Le chef de projet occupe aussi la place de chef d'Ã©quipe. â€” The project manager also assumes the role of team leader. \", \"Examples:s'occuper de (qqn./qqch.) v â€”look after sb./sth. v Â· take care of sb./sth. v Â· deal with sb./sth. v Â· handle sb./sth. v Â· care for sb./sth. v Â· attend to sb. v Â· provide for sb. v Â· mind sth. v Â· nurse sb./sth. v Â· dispose of sth. v occuper un poste vâ€”hold a position v occuper une fonction vâ€”hold a position v \"], 'french': 'occupe'}, {'english': ['change n  (often used)', 'variation n', 'difference n', 'swing n', 'variation f', 'divergence f'], 'examples': ['La variation des prix est souvent appliquÃ©e en septembre. â€” The change in rates is often applied in September. ', 'Les statistiques montrent une variation dans le taux de croissance. â€” Statistics show a variation in the growth rate. ', 'La variation de prix Ã©tait due au taux de change. â€” The price difference was due to the exchange rate. ', 'La rÃ©cente variation des prix immobiliers est difficile Ã\\xa0 expliquer. â€” The recent swing in property prices is hard to explain. ', 'Statistics show a variation in the growth rate. â€” Les statistiques montrent une variation dans le taux de croissance. ', \"There is a variation in education levels by country. â€” Il y a une divergence dans les niveaux d'Ã©ducation selon le pays. \"], 'french': 'variation'}, {'english': ['oversee sb./sth.', 'supervise sb./sth.', 'monitor sb./sth.', 'superviser qqn./qqch.', 'surveiller qqch./qqn.', 'piloter qqn./qqch.', 'diriger qqn./qqch.'], 'examples': [\"Le chef d'Ã©quipe supervise le travail de ses employÃ©s. â€” The team leader oversees the work of his employees. \", \"Le manager supervise mon travail avec attention. â€” The manager supervises my work carefully.Un contremaÃ®tre supervise les autres ouvriers. â€” A foreman supervises the other workers.Je n'enseignais pas ; je supervisais simplement les enfants. â€” I did not teach; I merely supervised the children. \", \"Mon chef supervise l'avancement de mon travail. â€” My boss monitors the progress of my work. \", \"The manager supervises my work carefully. â€” Le manager supervise mon travail avec attention.A foreman supervises the other workers. â€” Un contremaÃ®tre supervise les autres ouvriers.I did not teach; I merely supervised the children. â€” Je n'enseignais pas ; je supervisais simplement les enfants. \", \"The teacher supervises the students during the exam. â€” Le professeur surveille les Ã©tudiants pendant l'examen. \", 'The minister will supervise the work of the new committee. â€” Le ministre pilotera le travail du nouveau comitÃ©. ', \"The professor supervises the student's work. â€” Le professeur dirige le travail de l'Ã©tudiant. \"], 'french': 'supervise'}, {'english': ['proverb n   (plural: proverbs)', 'saying n   (plural: sayings)'], 'examples': [\"Comme le dit le proverbe, il n'y a pas de fumÃ©e sans feu. â€” As the proverb goes, there is no smoke without fire. \", \"Selon un proverbe ancien, savoir, c'est pouvoir. â€” According to an old saying, knowledge is power. \"], 'french': 'proverbe'}, {'english': ['to prep', 'for prep', 'in order to prep', 'towards prep', 'verser (qqch.)', 'servir qqch.', 'pleuvoir Ã\\xa0 verse v'], 'examples': ['Il faut une heure pour faire cuire le gÃ¢teau. â€” It takes one hour to bake the cake.Je me lÃ¨ve tÃ´t pour aller au travail. â€” I wake up early to go to work. ', \"J'ai achetÃ© un cadeau pour ma mÃ¨re. â€” I bought a gift for my mother.J'ai cousu une robe pour ma fille. â€” I stitched a dress for my daughter. \", 'Il travaille dur pour obtenir de bonnes notes. â€” He works hard in order to get good grades.Notre Ã©quipe doit marquer un but pour gagner. â€” Our team needs to score in order to win. ', \"J'Ã©conomise pour acheter une voiture. â€” I am saving towards buying a car. \", 'She poured milk into the glass. â€” Elle a versÃ© du lait dans le verre.The brewer poured the liquid into the large fermenting tun. â€” Le brasseur a versÃ© le liquide dans la grande cuve de fermentation. ', \"I poured wine for my guests. â€” J'ai servi du vin Ã\\xa0 mes invitÃ©s. \", 'She put on rain boots because it was pouring. â€” Elle a enfilÃ© des bottes en caoutchouc car il pleuvait Ã\\xa0 verse. '], 'french': 'pour'}, {'english': [], 'examples': [], 'french': 'ArmÃ©nie'}, {'english': ['sociolinguistics n'], 'examples': [], 'french': 'sociolinguistique'}, {'english': ['assist sb./sth.', 'help sb./sth.'], 'examples': [\"L'infirmiÃ¨re assiste le chirurgien pendant l'opÃ©ration. â€” The nurse assists the surgeon during the operation. \", \"L'infirmiÃ¨re assiste le chirurgien durant l'intervention. â€” The nurse helps the surgeon during the procedure. \", 'Examples:assister Ã\\xa0 une rÃ©union vâ€”attend a meeting v assister Ã\\xa0 qqch. v â€”attend sth. v Â· watch sth. v Â· witness sth. v Â· participate in sth. v Â· hear sth. v '], 'french': 'assiste'}, {'english': ['home n   (plural: homes)', 'residence n   (plural: residences)', 'house n', 'dwelling n   (plural: dwellings)', 'remain v   (remained, remained)', 'stay v   (stayed, stayed)', 'live v   (lived, lived)'], 'examples': ['La ville compte de nombreuses demeures historiques. â€” The city has many historical dwellings. ', \"La formation de l'univers demeure un mystÃ¨re. â€” The formation of the universe remains a mystery.MalgrÃ© la crise, nos recettes demeurent intactes. â€” Despite the crisis, our revenues remain unaffected. \", 'Ma famille et moi demeurons dÃ©sormais Ã\\xa0 Londres. â€” My family and I live in London now. '], 'french': 'demeure'}, {'english': ['review n  (often used)\\n (plural: reviews)', 'journal n   (plural: journals)', 'magazine n   (plural: magazines)', 'revised', 'review (sth.)', 'revise (sth.)', 'revisit sth.', 'see sb.', 'see sb./sth.', 'reconsider sth.', 'redesign sth.', 'reassess sth.', 'revamp v   (revamped, revamped)', 'revue f   (plural: revues f)'], 'examples': ['La revue de nos procÃ©dures a rÃ©vÃ©lÃ© quelques dÃ©fauts. â€” The review of our processes revealed some flaws. ', \"J'Ã©cris des articles pour de nombreuses revues scientifiques. â€” I write articles for many scientific journals. \", 'Mon article sera publiÃ© dans le prochain numÃ©ro de la revue. â€” My article will be published in the forthcoming issue of the magazine. ', \"Je vais revoir ma demande d'emploi avant de l'envoyer. â€” I will review my job application before submitting it. \", 'Le gouvernement a revu le budget Ã\\xa0 la hausse. â€” The government revised the budget upward. ', \"Le couple a demandÃ© Ã\\xa0 revoir la maison avant de l'acheter. â€” The couple asked to revisit the house before purchasing it. \", \"Revoir mon ami m'a rendu joyeux et heureux. â€” Seeing my friend again made me cheerful and happy. \", \"Revoir mon ami m'a rendu joyeux et heureux. â€” Seeing my friend again made me cheerful and happy. \", \"L'entreprise a revu sa stratÃ©gie commerciale obsolÃ¨te. â€” The company reconsidered its outdated marketing strategy. \", 'Le pays a revu sa politique commerciale. â€” The country redesigned its trade policy. ', 'Les chercheurs ont revu leurs hypothÃ¨ses initiales. â€” The researchers reassessed their original assumptions. ', \"L'Ã©quipe marketing a revu le vieux site internet de l'entreprise. â€” The marketing team revamped the company's old website. \", 'Examples:great revue nâ€”grande revue f '], 'french': 'Revue'}, {'english': ['thus adv', 'this way adv', 'in that respect adv'], 'examples': [\"L'Ã©tudiant a rÃ©ussi l'examen final, terminant ainsi le cours. â€” The student passed the final exam, thus completing the course. \", 'Ainsi, il y a diffÃ©rentes interprÃ©tations possibles. â€” In that respect, there are different possible interpretations. '], 'french': 'Ainsi'}, {'english': ['first adj  (often used)', 'prime adj', 'primary adj', 'initial adj', 'main adj', 'principal adj', 'preliminary adj', 'first num', 'premier ministre m', 'premier adj'], 'examples': [\"Les premiers rÃ©sultats seront publiÃ©s aujourd'hui. â€” The first results will be published today.Mon premier animal de compagnie Ã©tait un chat. â€” My first pet was a cat. \", 'La satisfaction du client est notre premier souci. â€” Our prime concern is customer satisfaction. ', \"L'objectif premier de l'association est d'aider les pauvres. â€” The primary objective of the association is to help the poor. \", 'Les premiÃ¨res conclusions ont Ã©tÃ© rÃ©futÃ©es par une deuxiÃ¨me expÃ©rience. â€” The initial conclusions were disproved by a second experiment. ', \"Mon premier objectif est d'obtenir mon diplÃ´me. â€” My main objective is to get my degree. \", \"L'objectif premier de l'association est d'aider les sans-abris. â€” The association's principal objective is to help the homeless. \", 'Les premiers tests en laboratoire sont concluants. â€” The preliminary laboratory tests are conclusive. '], 'french': 'premier'}, {'english': ['lees pl', 'scum n'], 'examples': ['Il a filtrÃ© la lie du vin. â€” He filtered the lees of the wine. ', 'Il a dÃ©crit les criminels comme la lie de la sociÃ©tÃ©. â€” He described criminals as the scum of society. ', 'Examples:lie de vin fâ€”wine sediment n '], 'french': 'liÃ©e'}]\n"
     ]
    }
   ],
   "source": [
    "with open(\"dictionary.json\", 'r') as file:\n",
    "    json_obj = json.load(file)\n",
    "\n",
    "print(json_obj)"
   ]
  }
 ],
 "metadata": {
  "kernelspec": {
   "display_name": "Python 3",
   "language": "python",
   "name": "python3"
  },
  "language_info": {
   "codemirror_mode": {
    "name": "ipython",
    "version": 3
   },
   "file_extension": ".py",
   "mimetype": "text/x-python",
   "name": "python",
   "nbconvert_exporter": "python",
   "pygments_lexer": "ipython3",
   "version": "3.10.4"
  }
 },
 "nbformat": 4,
 "nbformat_minor": 2
}
