{
  "cells": [
    {
      "cell_type": "markdown",
      "metadata": {
        "id": "gKOhQuKKRoq6"
      },
      "source": [
        "Implementation of word2vec model based on https://rguigoures.github.io/word2vec_pytorch/ tutorial"
      ]
    },
    {
      "cell_type": "code",
      "execution_count": null,
      "metadata": {
        "colab": {
          "base_uri": "https://localhost:8080/"
        },
        "id": "E3ka0UfWRgUj",
        "outputId": "a0e4a2a7-2e52-4a7e-af10-feda008acb58"
      },
      "outputs": [
        {
          "output_type": "stream",
          "name": "stderr",
          "text": [
            "[nltk_data] Downloading package brown to /root/nltk_data...\n",
            "[nltk_data]   Package brown is already up-to-date!\n"
          ]
        }
      ],
      "source": [
        "import itertools\n",
        "import nltk\n",
        "nltk.download('brown')\n",
        "from nltk.corpus import brown\n",
        "import re\n",
        "from numpy.random import multinomial"
      ]
    },
    {
      "cell_type": "code",
      "execution_count": null,
      "metadata": {
        "id": "JmpZ6kVQS1HV"
      },
      "outputs": [],
      "source": [
        "corpus = []\n",
        "\n",
        "# faz-se a tokenização do dataset de noticias:\n",
        "for cat in [\"news\"]:\n",
        "  for text_id in brown.fileids(cat):\n",
        "        raw_text = list(itertools.chain.from_iterable(brown.sents(text_id)))\n",
        "        text = ' '.join(raw_text)\n",
        "        text = text.lower()\n",
        "        text.replace('\\n', ' ')\n",
        "        text = re.sub('[^a-z ]+', '', text)\n",
        "        corpus.append([w for w in text.split() if w != ''])"
      ]
    },
    {
      "cell_type": "code",
      "execution_count": null,
      "metadata": {
        "id": "xdj445kLWMhL"
      },
      "outputs": [],
      "source": [
        "from collections import Counter\n",
        "import random, math"
      ]
    },
    {
      "cell_type": "markdown",
      "metadata": {
        "id": "7vnPvuAy4p_z"
      },
      "source": [
        "Agora, vamos calcular as ocorrências das palavras no corpus e dps calcular a probabilidade de manter a palavra no corpus, que é definida por:\n",
        "$$P(w_i) = \\frac{10^{-3}}{p_i}(\\sqrt{10^3p_i} + 1)$$"
      ]
    },
    {
      "cell_type": "code",
      "execution_count": null,
      "metadata": {
        "id": "3HyGJQhK1ofi"
      },
      "outputs": [],
      "source": [
        "def subsample_frequent_words(corpus):\n",
        "  filtered_corpus = []\n",
        "  word_counts = dict(Counter(list(itertools.chain.from_iterable(corpus))))\n",
        "  total = sum(list(word_counts.values()))\n",
        "  # proportion of each word in corpus\n",
        "  word_counts = {word: word_counts[word]/float(total) for word in word_counts}\n",
        "\n",
        "  for text in corpus:\n",
        "    filtered_corpus.append([])\n",
        "    for word in text:\n",
        "      if random.random() < (1+math.sqrt(word_counts[word]*1e3) * 1e-3 / word_counts[word]):\n",
        "        filtered_corpus[-1].append(word)\n",
        "  return filtered_corpus"
      ]
    },
    {
      "cell_type": "code",
      "execution_count": null,
      "metadata": {
        "id": "IlRrOX7o2RIb"
      },
      "outputs": [],
      "source": [
        "corpus = subsample_frequent_words(corpus)\n",
        "vocabulary = set(itertools.chain.from_iterable(corpus))\n",
        "\n",
        "word_to_index = {word: index for (index, word) in enumerate(vocabulary)}\n",
        "index_to_word = {index: word for (index, word) in enumerate(vocabulary)}"
      ]
    },
    {
      "cell_type": "markdown",
      "metadata": {
        "id": "MG1ntn5B-6Xc"
      },
      "source": [
        "Agora construindo o Bag of Words"
      ]
    },
    {
      "cell_type": "code",
      "execution_count": null,
      "metadata": {
        "id": "bDAlF8mR-9Lw"
      },
      "outputs": [],
      "source": [
        "import numpy as np"
      ]
    },
    {
      "cell_type": "code",
      "execution_count": null,
      "metadata": {
        "id": "8pgTfzlq2Bmi"
      },
      "outputs": [],
      "source": [
        "import random\n",
        "def get_batches(context, batch_size = 100):\n",
        "  random.shuffle(context)\n",
        "  batches = []\n",
        "  batch_target, batch_meaning, batch_negative = [], [], []\n",
        "  for i in range(len(context)):\n",
        "\n",
        "    batch_target.append(word_to_index[context[i][0]])\n",
        "    batch_meaning.append(word_to_index[context[i][1]])\n",
        "    batch_negative.append([word_to_index[w] for w in context[i][2]])\n",
        "\n",
        "    if (i+1) % batch_size or i == len(context) - 1:\n",
        "      tensor_target = autograd.Variable(torch.from_numpy(np.array(batch_target)).long())\n",
        "      tensor_meaning = autograd.Variable(torch.from_numpy(np.array(batch_meaning)).long())\n",
        "      tensor_negative = autograd.Variable(torch.from_numpy(np.array(batch_negative)).long())\n",
        "      batches.append((tensor_target, tensor_meaning, tensor_negative))\n",
        "      batch_target, batch_meaning, batch_negative = [], [], []\n",
        "  return batches\n"
      ]
    },
    {
      "cell_type": "code",
      "execution_count": null,
      "metadata": {
        "id": "3Y_Z9MoPW1oC"
      },
      "outputs": [],
      "source": [
        "def sample_negative(size):\n",
        "  probability = {}\n",
        "  word_counts = dict(Counter(list(itertools.chain.from_iterable(corpus))))\n",
        "  normalizing_factor = sum([v**0.75 for v in word_counts.values()])\n",
        "\n",
        "  for word in word_counts:\n",
        "    probability[word] = word_counts[word]**0.75 / normalizing_factor\n",
        "\n",
        "  words = np.array(list(word_counts.keys()))\n",
        "\n",
        "  while True:\n",
        "    word_list = []\n",
        "    index = np.array(multinomial(size, list(probability.values())))\n",
        "    for i, count in enumerate(index):\n",
        "      for _ in range(count):\n",
        "        word_list.append(words[i])\n",
        "    print(word_list)\n",
        "    yield word_list"
      ]
    },
    {
      "cell_type": "code",
      "execution_count": null,
      "metadata": {
        "id": "fEpgCHbnCMnO"
      },
      "outputs": [],
      "source": [
        "context = []\n",
        "window = 4\n",
        "negative_samples = sample_negative(8)"
      ]
    },
    {
      "cell_type": "code",
      "source": [
        "negative_samples"
      ],
      "metadata": {
        "colab": {
          "base_uri": "https://localhost:8080/"
        },
        "id": "YTA88cCSBK4S",
        "outputId": "b64dc1c8-7bcc-4d4f-fbda-d271f0ef5565"
      },
      "execution_count": null,
      "outputs": [
        {
          "output_type": "execute_result",
          "data": {
            "text/plain": [
              "<generator object sample_negative at 0x78e9536428f0>"
            ]
          },
          "metadata": {},
          "execution_count": 18
        }
      ]
    },
    {
      "cell_type": "code",
      "source": [
        "for text in corpus:\n",
        "  for i, word in enumerate(text):\n",
        "    start = max(0, i-window)\n",
        "    end = min(i+window, len(text))\n",
        "    for j in range(start, end):\n",
        "      if i != j:\n",
        "        context.append((word,text[j], next(negative_samples)))\n",
        "\n",
        "print(f\"Tem-se um total de {len(context)} pares de palavras alvo e palavras contextuais\")"
      ],
      "metadata": {
        "id": "J8aIYesOBI3U"
      },
      "execution_count": null,
      "outputs": []
    },
    {
      "cell_type": "markdown",
      "metadata": {
        "id": "zxHnZ57-FRQf"
      },
      "source": [
        "# Criando de fato o word2vec"
      ]
    },
    {
      "cell_type": "code",
      "execution_count": null,
      "metadata": {
        "id": "aMNScpNIFOcC"
      },
      "outputs": [],
      "source": [
        "import torch\n",
        "import torch.nn as nn\n",
        "import torch.autograd as autograd\n",
        "import torch.optim as optim\n",
        "import torch.nn.functional as F"
      ]
    },
    {
      "cell_type": "code",
      "execution_count": null,
      "metadata": {
        "id": "t81YdE-7JfoE"
      },
      "outputs": [],
      "source": [
        "class Word2Vec(nn.Module):\n",
        "  def __init__(self, embedding_size, vocab_size):\n",
        "    super(Word2Vec, self).__init__()\n",
        "    self.target_embeddings = nn.Embedding(vocab_size, embedding_size)\n",
        "    self.context_embeddings = nn.Embedding(vocab_size, embedding_size)\n",
        "\n",
        "  def forward(self, target_word, context_word, negative_example):\n",
        "    emb_target = self.target_embeddings(target_word)\n",
        "    emb_context = self.context_embeddings(context_word)\n",
        "    emb_product = torch.mul(emb_target, emb_context)\n",
        "    emb_product = torch.sum(emb_product, dim=1)\n",
        "    output = torch.sum(F.logsigmoid(emb_product))\n",
        "    emb_negative = self.context_embeddings(negative_example)\n",
        "    emb_product = torch.bmm(emb_negative, emb_target.unsqueeze(2))\n",
        "    emb_product = torch.sum(emb_product, dim=1)\n",
        "    output += torch.sum(F.logsigmoid(-emb_product))\n",
        "    return -output"
      ]
    },
    {
      "cell_type": "markdown",
      "metadata": {
        "id": "U9FwLg5uxSiC"
      },
      "source": [
        "Definição de uma função que para o aprendizado assim que a função de custo parar de decrescer significantemente"
      ]
    },
    {
      "cell_type": "code",
      "execution_count": null,
      "metadata": {
        "id": "YDDZ3gH4xNfT"
      },
      "outputs": [],
      "source": [
        "class EarlyStopping():\n",
        "  def __init__(self, patience=5, min_percent_gain=0.1):\n",
        "    self.patience = patience\n",
        "    self.loss = []\n",
        "    self.min_percent_gain = min_percent_gain/100.\n",
        "\n",
        "  def update_loss(self, loss):\n",
        "    self.loss.append(loss)\n",
        "    if len(self.loss) > self.patience:\n",
        "      del self.loss[0]\n",
        "\n",
        "  def stop_training(self):\n",
        "    if len(self.loss) == 1:\n",
        "      return False\n",
        "\n",
        "    gain = (max(self.loss) - min(self.loss)/max(self.loss))\n",
        "    print(f\"Ganho de custo: {round(100*gain,2)}\")\n",
        "    return gain < self.min_percent_gain"
      ]
    },
    {
      "cell_type": "markdown",
      "metadata": {
        "id": "XnszTpiO15Lz"
      },
      "source": [
        "Etapa de aprendizado"
      ]
    },
    {
      "cell_type": "code",
      "execution_count": null,
      "metadata": {
        "id": "TRP9DVIf14kU"
      },
      "outputs": [],
      "source": [
        "vocab_size = len(vocabulary)\n",
        "\n",
        "w2v = Word2Vec(embedding_size= 200, vocab_size = vocab_size)\n",
        "loss_function = nn.CrossEntropyLoss()\n",
        "optimizer = optim.Adam(w2v.parameters())\n",
        "early_stopping = EarlyStopping()\n",
        "context_tensor = []"
      ]
    },
    {
      "cell_type": "code",
      "execution_count": null,
      "metadata": {
        "id": "UX8GMt58t7g2"
      },
      "outputs": [],
      "source": [
        "for target, meaning in context:\n",
        "  target_tensor = autograd.Variable(torch.LongTensor([word_to_index[target]]))\n",
        "  meaning_tensor = autograd.Variable(torch.LongTensor([word_to_index[meaning]]))\n",
        "  context_tensor.append((target_tensor, meaning_tensor))"
      ]
    },
    {
      "cell_type": "code",
      "execution_count": null,
      "metadata": {
        "colab": {
          "background_save": true,
          "base_uri": "https://localhost:8080/"
        },
        "id": "7MtsRx2kvo9d",
        "outputId": "bb0b4fa9-8200-495d-93d2-e77de220874b"
      },
      "outputs": [
        {
          "name": "stderr",
          "output_type": "stream",
          "text": [
            "<ipython-input-9-01750f3f8fc6>:10: UserWarning: Implicit dimension choice for log_softmax has been deprecated. Change the call to include dim=X as an argument.\n",
            "  output = F.log_softmax(hidden)\n"
          ]
        },
        {
          "name": "stdout",
          "output_type": "stream",
          "text": [
            "loss:  11.132483\n",
            "loss:  11.2609005\n",
            "Ganho de custo: 1027.23\n",
            "loss:  11.245563\n",
            "Ganho de custo: 1027.23\n",
            "loss:  11.225306\n",
            "Ganho de custo: 1027.23\n"
          ]
        }
      ],
      "source": [
        "while True:\n",
        "  losses = []\n",
        "  for target_tensor, meaning_tensor in context_tensor:\n",
        "    w2v.zero_grad()\n",
        "    log_probs = w2v(meaning_tensor)\n",
        "    loss = loss_function(log_probs, target_tensor)\n",
        "    loss.backward()\n",
        "    optimizer.step()\n",
        "    losses.append(loss.data)\n",
        "  print(\"loss: \", np.mean(losses))\n",
        "  early_stopping.update_loss(np.mean(losses))\n",
        "  if early_stopping.stop_training():\n",
        "    break"
      ]
    },
    {
      "cell_type": "code",
      "execution_count": null,
      "metadata": {
        "id": "DLI4kQzBxJ_N"
      },
      "outputs": [],
      "source": []
    }
  ],
  "metadata": {
    "colab": {
      "provenance": []
    },
    "kernelspec": {
      "display_name": "Python 3",
      "name": "python3"
    },
    "language_info": {
      "name": "python"
    }
  },
  "nbformat": 4,
  "nbformat_minor": 0
}